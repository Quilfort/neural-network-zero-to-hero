{
  "nbformat": 4,
  "nbformat_minor": 0,
  "metadata": {
    "colab": {
      "provenance": [],
      "authorship_tag": "ABX9TyPcO5qJQUaIPXRBK0fTVAyQ"
    },
    "kernelspec": {
      "name": "python3",
      "display_name": "Python 3"
    },
    "language_info": {
      "name": "python"
    }
  },
  "cells": [
    {
      "cell_type": "markdown",
      "source": [
        "https://www.youtube.com/watch?v=P6sfmUTpUmc&ab_channel=AndrejKarpathy"
      ],
      "metadata": {
        "id": "PxQaa54s1p_x"
      }
    },
    {
      "cell_type": "code",
      "execution_count": null,
      "metadata": {
        "id": "LonGYYTj1lW6"
      },
      "outputs": [],
      "source": [
        "import torch\n",
        "import torch.nn.functional as F\n",
        "import matplotlib.pyplot as plt # for making figures\n",
        "%matplotlib inline"
      ]
    },
    {
      "cell_type": "code",
      "source": [
        "# download the names.txt file from github\n",
        "!wget https://raw.githubusercontent.com/karpathy/makemore/master/names.txt"
      ],
      "metadata": {
        "id": "NpRF2WrW1toh"
      },
      "execution_count": null,
      "outputs": []
    },
    {
      "cell_type": "code",
      "source": [
        "# read in all the words\n",
        "words = open('names.txt', 'r').read().splitlines()\n",
        "print(words[:8])\n",
        "print(len(words))"
      ],
      "metadata": {
        "colab": {
          "base_uri": "https://localhost:8080/"
        },
        "id": "4bsAoAQy1u6B",
        "outputId": "0f9c7662-1f1c-4cae-cb50-20c4eb347e63"
      },
      "execution_count": null,
      "outputs": [
        {
          "output_type": "stream",
          "name": "stdout",
          "text": [
            "['emma', 'olivia', 'ava', 'isabella', 'sophia', 'charlotte', 'mia', 'amelia']\n",
            "32033\n"
          ]
        }
      ]
    },
    {
      "cell_type": "code",
      "source": [
        "# build the vocabulary of characters and mappings to/from integers\n",
        "chars = sorted(list(set(''.join(words))))\n",
        "stoi = {s:i+1 for i,s in enumerate(chars)}\n",
        "stoi['.'] = 0\n",
        "itos = {i:s for s,i in stoi.items()}\n",
        "vocab_size = len(itos)\n",
        "print(itos)\n",
        "print(vocab_size)"
      ],
      "metadata": {
        "colab": {
          "base_uri": "https://localhost:8080/"
        },
        "id": "Y6EmhY8Y12YB",
        "outputId": "80d029ff-9fff-4d40-eaff-f4552591c35c"
      },
      "execution_count": null,
      "outputs": [
        {
          "output_type": "stream",
          "name": "stdout",
          "text": [
            "{1: 'a', 2: 'b', 3: 'c', 4: 'd', 5: 'e', 6: 'f', 7: 'g', 8: 'h', 9: 'i', 10: 'j', 11: 'k', 12: 'l', 13: 'm', 14: 'n', 15: 'o', 16: 'p', 17: 'q', 18: 'r', 19: 's', 20: 't', 21: 'u', 22: 'v', 23: 'w', 24: 'x', 25: 'y', 26: 'z', 0: '.'}\n",
            "27\n"
          ]
        }
      ]
    },
    {
      "cell_type": "code",
      "source": [
        "# build the dataset\n",
        "block_size = 3 # context length: how many characters do we take to predict the next one?\n",
        "\n",
        "def build_dataset(words):\n",
        "  X, Y = [], []\n",
        "\n",
        "  for w in words:\n",
        "    context = [0] * block_size\n",
        "    for ch in w + '.':\n",
        "      ix = stoi[ch]\n",
        "      X.append(context)\n",
        "      Y.append(ix)\n",
        "      context = context[1:] + [ix] # crop and append\n",
        "\n",
        "  X = torch.tensor(X)\n",
        "  Y = torch.tensor(Y)\n",
        "  print(X.shape, Y.shape)\n",
        "  return X, Y\n",
        "\n",
        "import random\n",
        "random.seed(42)\n",
        "random.shuffle(words)\n",
        "n1 = int(0.8*len(words))\n",
        "n2 = int(0.9*len(words))\n",
        "\n",
        "Xtr,  Ytr  = build_dataset(words[:n1])     # 80%\n",
        "Xdev, Ydev = build_dataset(words[n1:n2])   # 10%\n",
        "Xte,  Yte  = build_dataset(words[n2:])     # 10%"
      ],
      "metadata": {
        "colab": {
          "base_uri": "https://localhost:8080/"
        },
        "id": "uBwKhHp_16CC",
        "outputId": "ae4fa60c-e372-4fb1-c5aa-9b1eb8650f30"
      },
      "execution_count": null,
      "outputs": [
        {
          "output_type": "stream",
          "name": "stdout",
          "text": [
            "torch.Size([182484, 3]) torch.Size([182484])\n",
            "torch.Size([22869, 3]) torch.Size([22869])\n",
            "torch.Size([22793, 3]) torch.Size([22793])\n"
          ]
        }
      ]
    },
    {
      "cell_type": "code",
      "source": [
        "# Softmax confidently wrong\n",
        "\n",
        "# Logits start to high. You can change the bias2 to init with 0 instead of random numbers\n",
        "# Weights should also be small but never 0 because of syncronosation opties\n",
        "# Bij training is the start loss too high (Around 25 - 30) Fake Confidence\n",
        "# For this project you know the biggest propability loss. Because everyhing (27 chars) have the same change to be the first character.\n",
        "# So loss is around 3.3 at init\n",
        "-torch.tensor(1/27.0).log()"
      ],
      "metadata": {
        "colab": {
          "base_uri": "https://localhost:8080/"
        },
        "id": "Pvo6tB1o_pe4",
        "outputId": "b9c9d460-e43e-42cd-87ad-91b6495442f7"
      },
      "execution_count": null,
      "outputs": [
        {
          "output_type": "execute_result",
          "data": {
            "text/plain": [
              "tensor(3.2958)"
            ]
          },
          "metadata": {},
          "execution_count": 29
        }
      ]
    },
    {
      "cell_type": "code",
      "source": [
        "# Tanh Layer too saturated\n",
        "\n",
        "# Hidden Layer (h) werkt slecht bij een flat tail (-1 or 1)\n",
        "# Killing the gradient/als de output er close bij 1 / -1 is\n",
        "# Je wilt Dead Neurons voorkomen, weights and bias never learn\n",
        "# Daarom moet hpreact aka hidden layer pre-activation dichter naar 0 toe, net zoals logits\n",
        "\n",
        "##  De eerste training uitdraaien en daar kijken wat er op de hidden layers gebeurd"
      ],
      "metadata": {
        "id": "-vxBb2WJGqSu"
      },
      "execution_count": null,
      "outputs": []
    },
    {
      "cell_type": "code",
      "source": [
        "# https://pytorch.org/docs/stable/nn.init.html\n",
        "# torch.nn.init.kaiming_normal_(tensor, a=0, mode='fan_in', nonlinearity='leaky_relu')\n",
        "# Fills the input Tensor with values according to the method described in Delving deep into rectifiers: \\\n",
        "#         Surpassing human-level performance on ImageNet classification\n",
        "\n",
        "#   So Gain / Square of fan in\n",
        "#   or\n",
        "#   (5/3)/((n_embd * block_size)**0.5)"
      ],
      "metadata": {
        "id": "1VK4Dyz8PAym"
      },
      "execution_count": null,
      "outputs": []
    },
    {
      "cell_type": "code",
      "source": [
        "# # Batch Normalization is a technique that normalizes the activations of each layer in a neural network, \\\n",
        "#   stabilizing the training process, allowing higher learning rates, and acting as a regularizer to improve generalization\n",
        "\n",
        "# Batch Normalization normalizes the activations of each layer in a neural network by subtracting the batch \\\n",
        "#      mean and dividing by the batch standard deviation.\n",
        "\n",
        "# Scale and Shift"
      ],
      "metadata": {
        "id": "MfCBFfCdSTlG"
      },
      "execution_count": null,
      "outputs": []
    },
    {
      "cell_type": "code",
      "source": [
        "# MLP revisited\n",
        "n_embd = 10 # the dimensionality of the character embedding vectors\n",
        "n_hidden = 200 # the number of neurons in the hidden layer of the MLP\n",
        "\n",
        "g = torch.Generator().manual_seed(2147483647) # for reproducibility\n",
        "C  = torch.randn((vocab_size, n_embd),            generator=g)\n",
        "W1 = torch.randn((n_embd * block_size, n_hidden), generator=g)    * (5/3)/((n_embd * block_size)**0.5)                              #* 0.2\n",
        "# b1 = torch.randn(n_hidden,                        generator=g)    * 0.01\n",
        "W2 = torch.randn((n_hidden, vocab_size),          generator=g)    * 0.01 # logits very small at init. Dont put Weights on 0\n",
        "b2 = torch.randn(vocab_size,                      generator=g)    * 0 # Not a bias of random numbers at init\n",
        "\n",
        "# BatchNorm parameters\n",
        "bngain = torch.ones((1, n_hidden))\n",
        "bnbias = torch.zeros((1, n_hidden))\n",
        "bnmean_running = torch.zeros((1, n_hidden))\n",
        "bnstd_running = torch.ones((1, n_hidden))\n",
        "\n",
        "parameters = [C, W1, W2, b2, bngain, bnbias]\n",
        "print(sum(p.nelement() for p in parameters)) # number of parameters in total\n",
        "for p in parameters:\n",
        "  p.requires_grad = True"
      ],
      "metadata": {
        "colab": {
          "base_uri": "https://localhost:8080/"
        },
        "id": "KnPGg7nB8SgR",
        "outputId": "bc60c0c6-f63a-4a46-e9c4-d24290249b52"
      },
      "execution_count": null,
      "outputs": [
        {
          "output_type": "stream",
          "name": "stdout",
          "text": [
            "12097\n"
          ]
        }
      ]
    },
    {
      "cell_type": "code",
      "source": [
        "# same optimization as last time\n",
        "max_steps = 200000\n",
        "batch_size = 32\n",
        "lossi = []\n",
        "\n",
        "for i in range(max_steps):\n",
        "\n",
        "  # minibatch construct\n",
        "  ix = torch.randint(0, Xtr.shape[0], (batch_size,), generator=g)\n",
        "  Xb, Yb = Xtr[ix], Ytr[ix] # batch X,Y\n",
        "\n",
        "  # forward pass\n",
        "  emb = C[Xb] # embed the characters into vectors\n",
        "  embcat = emb.view(emb.shape[0], -1) # concatenate the vectors\n",
        "  # Linear layer\n",
        "  hpreact = embcat @ W1\n",
        "  # -------------------------------------------------------------\n",
        "  # hpreact = bngain * (hpreact - hpreact.mean(0, keepdim=True)) / hpreact.std(0, keepdim=True) + bnbias\n",
        "  # BatchNorm layer\n",
        "  bnmeani = hpreact.mean(0, keepdim=True)\n",
        "  bnstdi = hpreact.std(0, keepdim=True)\n",
        "  hpreact = bngain * (hpreact - bnmeani) / bnstdi + bnbias\n",
        "\n",
        "  with torch.no_grad():\n",
        "    bnmean_running = 0.999 * bnmean_running + 0.001 * bnmeani\n",
        "    bnstd_running = 0.999 * bnstd_running + 0.001 * bnstdi\n",
        "  # -------------------------------------------------------------\n",
        "  # Non-linearity\n",
        "  h = torch.tanh(hpreact) # hidden layer\n",
        "  logits = h @ W2 + b2 # output layer\n",
        "  loss = F.cross_entropy(logits, Yb) # loss function\n",
        "\n",
        "  # backward pass\n",
        "  for p in parameters:\n",
        "    p.grad = None\n",
        "  loss.backward()\n",
        "\n",
        "  # update\n",
        "  lr = 0.1 if i < 100000 else 0.01 # step learning rate decay\n",
        "  for p in parameters:\n",
        "    p.data += -lr * p.grad\n",
        "\n",
        "  # track stats\n",
        "  if i % 10000 == 0: # print every once in a while\n",
        "    print(f'{i:7d}/{max_steps:7d}: {loss.item():.4f}')\n",
        "  lossi.append(loss.log10().item())"
      ],
      "metadata": {
        "colab": {
          "base_uri": "https://localhost:8080/"
        },
        "id": "k0Z7muiS8V7n",
        "outputId": "509ea41f-1386-458b-a95a-f66b4e9cae78"
      },
      "execution_count": null,
      "outputs": [
        {
          "output_type": "stream",
          "name": "stdout",
          "text": [
            "      0/ 200000: 3.2788\n",
            "  10000/ 200000: 2.1573\n",
            "  20000/ 200000: 2.3661\n",
            "  30000/ 200000: 2.1708\n",
            "  40000/ 200000: 2.2585\n",
            "  50000/ 200000: 2.7153\n",
            "  60000/ 200000: 2.0828\n",
            "  70000/ 200000: 2.3331\n",
            "  80000/ 200000: 2.3124\n",
            "  90000/ 200000: 1.9479\n",
            " 100000/ 200000: 1.8613\n",
            " 110000/ 200000: 1.7870\n",
            " 120000/ 200000: 2.3108\n",
            " 130000/ 200000: 1.9558\n",
            " 140000/ 200000: 2.4277\n",
            " 150000/ 200000: 2.0879\n",
            " 160000/ 200000: 2.0539\n",
            " 170000/ 200000: 2.3074\n",
            " 180000/ 200000: 1.8473\n",
            " 190000/ 200000: 2.1584\n"
          ]
        }
      ]
    },
    {
      "cell_type": "code",
      "source": [
        "plt.plot(lossi)"
      ],
      "metadata": {
        "colab": {
          "base_uri": "https://localhost:8080/",
          "height": 447
        },
        "id": "Y39-XZWP91mP",
        "outputId": "c212d8b6-c1eb-4c5e-8ed5-a36e29254881"
      },
      "execution_count": null,
      "outputs": [
        {
          "output_type": "execute_result",
          "data": {
            "text/plain": [
              "[<matplotlib.lines.Line2D at 0x7b55d35c8bb0>]"
            ]
          },
          "metadata": {},
          "execution_count": 72
        },
        {
          "output_type": "display_data",
          "data": {
            "text/plain": [
              "<Figure size 640x480 with 1 Axes>"
            ],
            "image/png": "[encoded data removed]"
          },
          "metadata": {}
        }
      ]
    },
    {
      "cell_type": "code",
      "source": [
        "# calibrate the batch norm at the end of training\n",
        "\n",
        "# with torch.no_grad():\n",
        "#   # pass the training set through\n",
        "#   emb = C[Xtr]\n",
        "#   embcat = emb.view(emb.shape[0], -1)\n",
        "#   hpreact = embcat @ W1 # + b1\n",
        "#   # measure the mean/std over the entire training set\n",
        "#   bnmean = hpreact.mean(0, keepdim=True)\n",
        "#   bnstd = hpreact.std(0, keepdim=True)"
      ],
      "metadata": {
        "id": "FAlwBVXDaXjs"
      },
      "execution_count": null,
      "outputs": []
    },
    {
      "cell_type": "code",
      "source": [
        "##  https://pytorch.org/docs/stable/generated/torch.no_grad.html\n",
        "\n",
        "@torch.no_grad() # this decorator disables gradient tracking\n",
        "def split_loss(split):\n",
        "  x,y = {\n",
        "    'train': (Xtr, Ytr),\n",
        "    'val': (Xdev, Ydev),\n",
        "    'test': (Xte, Yte),\n",
        "  }[split]\n",
        "  emb = C[x] # (N, block_size, n_embd)\n",
        "  embcat = emb.view(emb.shape[0], -1) # concat into (N, block_size * n_embd)\n",
        "  hpreact = embcat @ W1\n",
        "  # hpreact = bngain * (hpreact - hpreact.mean(0, keepdim=True)) / hpreact.std(0, keepdim=True) + bnbias\n",
        "  hpreact = bngain * (hpreact - bnmean_running) / bnstd_running + bnbias\n",
        "  h = torch.tanh(hpreact) # (N, n_hidden)\n",
        "  logits = h @ W2 + b2 # (N, vocab_size)\n",
        "  loss = F.cross_entropy(logits, y)\n",
        "  print(split, loss.item())\n",
        "\n",
        "split_loss('train')\n",
        "split_loss('val')"
      ],
      "metadata": {
        "colab": {
          "base_uri": "https://localhost:8080/"
        },
        "id": "haGlYos-940x",
        "outputId": "2a9bf36b-806b-42e8-d015-4ca1b4ff7ad8"
      },
      "execution_count": null,
      "outputs": [
        {
          "output_type": "stream",
          "name": "stdout",
          "text": [
            "train 2.066537618637085\n",
            "val 2.1117324829101562\n"
          ]
        }
      ]
    },
    {
      "cell_type": "code",
      "source": [
        "# sample from the model\n",
        "g = torch.Generator().manual_seed(242222883 + 10)\n",
        "\n",
        "for _ in range(20):\n",
        "\n",
        "    out = []\n",
        "    context = [0] * block_size # initialize with all ...\n",
        "    while True:\n",
        "      emb = C[torch.tensor([context])] # (1,block_size,d)\n",
        "      h = torch.tanh(emb.view(1, -1) @ W1)\n",
        "      logits = h @ W2 + b2\n",
        "      probs = F.softmax(logits, dim=1)\n",
        "      ix = torch.multinomial(probs, num_samples=1, generator=g).item()\n",
        "      context = context[1:] + [ix]\n",
        "      out.append(ix)\n",
        "      if ix == 0:\n",
        "        break\n",
        "\n",
        "    print(''.join(itos[i] for i in out))"
      ],
      "metadata": {
        "colab": {
          "base_uri": "https://localhost:8080/"
        },
        "id": "AoxNiWv--i3p",
        "outputId": "f135906a-bdd2-403a-91c2-0cb150ba6faf"
      },
      "execution_count": null,
      "outputs": [
        {
          "output_type": "stream",
          "name": "stdout",
          "text": [
            "qaibht.\n",
            "tygigraclyr.\n",
            "fazviviz.\n",
            "fatmu.\n",
            "phmbiq.\n",
            "gricelyssafrantim.\n",
            "kevanyah.\n",
            "jasbbiahmsttv.\n",
            "qulbeifatsh.\n",
            "britshquenvighl.\n",
            "feymastamris.\n",
            "sha.\n",
            "selssimredgrefttonsthugfklamsimdhvi.\n",
            "faidhkauriplrrang.\n",
            "kwexthal.\n",
            "fahdias.\n",
            "mckerranncharmaribfir.\n",
            "vnyyah.\n",
            "blestap.\n",
            "faghn.\n"
          ]
        }
      ]
    },
    {
      "cell_type": "code",
      "source": [
        "1:03"
      ],
      "metadata": {
        "id": "124Rzm7se7wu"
      },
      "execution_count": null,
      "outputs": []
    }
  ]
}