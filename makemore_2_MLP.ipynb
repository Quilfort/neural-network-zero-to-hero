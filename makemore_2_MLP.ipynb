{
  "nbformat": 4,
  "nbformat_minor": 0,
  "metadata": {
    "colab": {
      "provenance": [],
      "authorship_tag": "ABX9TyOgwbYn3gNN/HXegZichsHE"
    },
    "kernelspec": {
      "name": "python3",
      "display_name": "Python 3"
    },
    "language_info": {
      "name": "python"
    }
  },
  "cells": [
    {
      "cell_type": "markdown",
      "source": [
        "Build MLP volgens [Bengio](https://www.jmlr.org/papers/volume3/bengio03a/bengio03a.pdf)"
      ],
      "metadata": {
        "id": "Uot_u0lwkf3e"
      }
    },
    {
      "cell_type": "code",
      "execution_count": null,
      "metadata": {
        "id": "1ZR9UCajSRMv"
      },
      "outputs": [],
      "source": [
        "import torch\n",
        "import torch.nn.functional as F\n",
        "import matplotlib.pyplot as plt # for making figures\n",
        "%matplotlib inline"
      ]
    },
    {
      "cell_type": "code",
      "source": [
        "# download the names.txt file from github\n",
        "!wget https://raw.githubusercontent.com/karpathy/makemore/master/names.txt"
      ],
      "metadata": {
        "id": "-F0oHZ6fUyki"
      },
      "execution_count": null,
      "outputs": []
    },
    {
      "cell_type": "code",
      "source": [
        "words = open('names.txt', 'r').read().splitlines()\n",
        "print(words[:9])\n",
        "print(\"-----\")\n",
        "print(len(words))"
      ],
      "metadata": {
        "colab": {
          "base_uri": "https://localhost:8080/"
        },
        "id": "JX9CYbXUU8Su",
        "outputId": "2f9d3543-8898-4277-cdba-4093e150f430"
      },
      "execution_count": null,
      "outputs": [
        {
          "output_type": "stream",
          "name": "stdout",
          "text": [
            "['emma', 'olivia', 'ava', 'isabella', 'sophia', 'charlotte', 'mia', 'amelia', 'harper']\n",
            "-----\n",
            "32033\n"
          ]
        }
      ]
    },
    {
      "cell_type": "code",
      "source": [
        "# build the vocabulary of characters and mappings to/from integers\n",
        "## Zie les 1\n",
        "chars = sorted(list(set(''.join(words))))\n",
        "stoi = {s:i+1 for i,s in enumerate(chars)}\n",
        "stoi['.'] = 0\n",
        "itos = {i:s for s,i in stoi.items()}\n",
        "print(itos)"
      ],
      "metadata": {
        "colab": {
          "base_uri": "https://localhost:8080/"
        },
        "id": "moUR-tvMWFH3",
        "outputId": "f4743323-893b-4895-df84-49cca01699e4"
      },
      "execution_count": null,
      "outputs": [
        {
          "output_type": "stream",
          "name": "stdout",
          "text": [
            "{1: 'a', 2: 'b', 3: 'c', 4: 'd', 5: 'e', 6: 'f', 7: 'g', 8: 'h', 9: 'i', 10: 'j', 11: 'k', 12: 'l', 13: 'm', 14: 'n', 15: 'o', 16: 'p', 17: 'q', 18: 'r', 19: 's', 20: 't', 21: 'u', 22: 'v', 23: 'w', 24: 'x', 25: 'y', 26: 'z', 0: '.'}\n"
          ]
        }
      ]
    },
    {
      "cell_type": "code",
      "source": [
        "## Create/build a dataset\n",
        "## Block Size is how many characters, instead of only 2\n",
        "\n",
        "block_size = 2\n",
        "X, Y = [], []\n",
        "\n",
        "for w in words[:5]:\n",
        "  print(w)\n",
        "  context= [0] * block_size\n",
        "  for ch in w + '.':\n",
        "    ix = stoi[ch]\n",
        "    X.append(context)\n",
        "    Y.append(ix)\n",
        "    print(''.join(itos[i] for i in context), '--->', itos[ix])\n",
        "    context = context[1:] + [ix]\n",
        "\n",
        "X = torch.tensor(X)\n",
        "Y = torch.tensor(Y)\n",
        "\n",
        "\n"
      ],
      "metadata": {
        "colab": {
          "base_uri": "https://localhost:8080/"
        },
        "id": "AmgIlmUGXFJX",
        "outputId": "17c670c8-1545-4895-cb92-385ce93609ec"
      },
      "execution_count": null,
      "outputs": [
        {
          "output_type": "stream",
          "name": "stdout",
          "text": [
            "emma\n",
            ".. ---> e\n",
            ".e ---> m\n",
            "em ---> m\n",
            "mm ---> a\n",
            "ma ---> .\n",
            "olivia\n",
            ".. ---> o\n",
            ".o ---> l\n",
            "ol ---> i\n",
            "li ---> v\n",
            "iv ---> i\n",
            "vi ---> a\n",
            "ia ---> .\n",
            "ava\n",
            ".. ---> a\n",
            ".a ---> v\n",
            "av ---> a\n",
            "va ---> .\n",
            "isabella\n",
            ".. ---> i\n",
            ".i ---> s\n",
            "is ---> a\n",
            "sa ---> b\n",
            "ab ---> e\n",
            "be ---> l\n",
            "el ---> l\n",
            "ll ---> a\n",
            "la ---> .\n",
            "sophia\n",
            ".. ---> s\n",
            ".s ---> o\n",
            "so ---> p\n",
            "op ---> h\n",
            "ph ---> i\n",
            "hi ---> a\n",
            "ia ---> .\n"
          ]
        }
      ]
    },
    {
      "cell_type": "code",
      "source": [
        "X.shape, X.dtype, Y.shape, Y.dtype"
      ],
      "metadata": {
        "colab": {
          "base_uri": "https://localhost:8080/"
        },
        "id": "3UXKwABIY-ZJ",
        "outputId": "c673338f-2935-4bec-9b39-fb68af551e50"
      },
      "execution_count": null,
      "outputs": [
        {
          "output_type": "execute_result",
          "data": {
            "text/plain": [
              "(torch.Size([32, 2]), torch.int64, torch.Size([32]), torch.int64)"
            ]
          },
          "metadata": {},
          "execution_count": 11
        }
      ]
    },
    {
      "cell_type": "code",
      "source": [
        "#2D embeddings random || Can use one_hot but for now just index\n",
        "C = torch.randn((27, 2))\n",
        "# C[5]\n",
        "# F.one_hot(torch.tensor(5), num_classes=27).float() @ C\n",
        "\n",
        "## Can use the tensor X as an argument in Table C\n",
        "# print(C[X].shape)\n",
        "# print(\"----\")\n",
        "# print(X[13,2])\n",
        "# print(\"----\")\n",
        "# print(C[X][13,2])\n",
        "# print(\"----\")\n",
        "# print(C[1])"
      ],
      "metadata": {
        "id": "pXmF39SiZJg4"
      },
      "execution_count": null,
      "outputs": []
    },
    {
      "cell_type": "code",
      "source": [
        "## So to embed X, you can just do C[X]\n",
        "emb = C[X]\n",
        "emb.shape"
      ],
      "metadata": {
        "colab": {
          "base_uri": "https://localhost:8080/"
        },
        "id": "EjcYgsGXagXH",
        "outputId": "c2c84bfa-02ac-4bb2-a831-ecdbb012ef7d"
      },
      "execution_count": null,
      "outputs": [
        {
          "output_type": "execute_result",
          "data": {
            "text/plain": [
              "torch.Size([32, 2, 2])"
            ]
          },
          "metadata": {},
          "execution_count": 13
        }
      ]
    },
    {
      "cell_type": "code",
      "source": [
        "## Check with Weights, Biases and Number of Neurel\n",
        "\n",
        "W1 = torch.randn((6,100))\n",
        "b1 = torch.randn(100)"
      ],
      "metadata": {
        "id": "gILEiVGJbtj9"
      },
      "execution_count": null,
      "outputs": []
    },
    {
      "cell_type": "code",
      "source": [
        "## https://pytorch.org/docs/stable/torch.html?highlight=torch#module-torch\n",
        "## https://pytorch.org/docs/stable/generated/torch.cat.html#torch.cat           || CAT \tConcatenates the given sequence of seq tensors in the given dimension.\n",
        "## https://pytorch.org/docs/stable/generated/torch.unbind.html#torch.unbind     || UNBIND Removes a tensor dimension.\n",
        "\n",
        "# # Change Size([32, 3, 2]) to Size([32, 6, 2]) || Hardcode version\n",
        "  # print(emb[:, 0, :].shape)\n",
        "  # # Answer is torch.Size([32, 2])\n",
        "  # print(\"----\")\n",
        "  # torch.cat([emb[:, 0, :], emb[:, 1, :], emb[:, 2, :]], 1)\n",
        "  # print(torch.cat([emb[:, 0, :], emb[:, 1, :], emb[:, 2, :]], 1).shape)\n",
        "  # # Answer is torch.Size([32, 6])\n",
        "\n",
        "# # Dimension 1 is het aantal block die je nodig hebt\n",
        "# torch.cat(torch.unbind(emb,1), 1).shape\n",
        "  # # Answer is torch.Size([32, 6])"
      ],
      "metadata": {
        "id": "gxJgEmbOfQNV"
      },
      "execution_count": null,
      "outputs": []
    },
    {
      "cell_type": "code",
      "source": [
        "## https://pytorch.org/docs/stable/generated/torch.Tensor.view.html             || Returns a new tensor with the same data as the self tensor but of a different shape.\n",
        "## View is an easier way to manipulate the shape\n",
        "# emb.view(32,6)\n",
        "# emb.view(32,6) == torch.cat(torch.unbind(emb,1), 1)                           || Alles staat op True wat het is hetzelfde"
      ],
      "metadata": {
        "id": "l6Gn3ZkWfWiF"
      },
      "execution_count": null,
      "outputs": []
    },
    {
      "cell_type": "code",
      "source": [
        "## Instead of 32, you can do emb.shape[0] or -1. With -1 Pytorch checkt zelf wat het moet zijn\n",
        "## hidden layer of activations for the\n",
        "\n",
        "h = torch.tanh(emb.view(-1 , 6) @ W1 + b1)\n",
        "\n",
        "## For Broadcasting measures (See last colab)\n",
        "\n",
        "# (emb.view(-1 , 6) @ W1 + b1).shape    = torch.Size([32, 100]\n",
        "# b1.shap                               = torch.Size([32, 100]\n",
        "\n",
        "# 32, 100\n",
        "#  1, 100"
      ],
      "metadata": {
        "id": "TzojIUaaiOzn"
      },
      "execution_count": null,
      "outputs": []
    },
    {
      "cell_type": "code",
      "source": [
        "W2 = torch.randn((100, 27))\n",
        "b2 = torch.randn(27)"
      ],
      "metadata": {
        "id": "xLggnm9zkxi0"
      },
      "execution_count": null,
      "outputs": []
    },
    {
      "cell_type": "code",
      "source": [
        "logits = h @ W2 + b2"
      ],
      "metadata": {
        "id": "fS9nXj-_rrxg"
      },
      "execution_count": null,
      "outputs": []
    },
    {
      "cell_type": "code",
      "source": [
        "counts = logits.exp()\n",
        "prob = counts / counts.sum(1, keepdims=True)\n",
        "# prob.shape"
      ],
      "metadata": {
        "id": "37onoOj-r1jf"
      },
      "execution_count": null,
      "outputs": []
    },
    {
      "cell_type": "code",
      "source": [
        "## Data without training\n",
        "# print(torch.arange(32))\n",
        "# print(\"----\")\n",
        "# prob[torch.arange(32), Y]\n",
        "\n",
        "loss = -prob[torch.arange(32), Y].log().mean()\n",
        "loss"
      ],
      "metadata": {
        "colab": {
          "base_uri": "https://localhost:8080/"
        },
        "id": "A-FV0yoHsEwK",
        "outputId": "2f65f48f-6196-4acc-871c-f8697f7a7baf"
      },
      "execution_count": null,
      "outputs": [
        {
          "output_type": "execute_result",
          "data": {
            "text/plain": [
              "tensor(13.3541)"
            ]
          },
          "metadata": {},
          "execution_count": 18
        }
      ]
    },
    {
      "cell_type": "code",
      "source": [
        "## See below\n",
        "\n",
        "# emb = C[X]\n",
        "# h = torch.tanh(emb.view(-1 , 6) @ W1 + b1)\n",
        "# logits = h @ W2 + b2\n",
        "# counts = logits.exp()\n",
        "# prob = counts / counts.sum(1, keepdims=True)\n",
        "# loss = -prob[torch.arange(32), Y].log().mean()\n",
        "# loss"
      ],
      "metadata": {
        "id": "jjhaxn2HrT87"
      },
      "execution_count": null,
      "outputs": []
    },
    {
      "cell_type": "code",
      "source": [
        "## https://pytorch.org/docs/stable/generated/torch.nn.functional.binary_cross_entropy.html || Function that measures the Binary Cross Entropy between the target and input probabilities.\n",
        "\n",
        "## Can calculate loss also with cross entropy. So the code below will be\n",
        "  # counts = logits.exp()\n",
        "  # prob = counts / counts.sum(1, keepdims=True)\n",
        "  # loss = -prob[torch.arange(32), Y].log().mean()\n",
        "\n",
        "# F.cross_entropy(logits, Y)\n",
        "\n",
        "# The forward pass will below\n",
        "\n",
        "# emb = C[X]\n",
        "# h = torch.tanh(emb.view(-1 , 6) @ W1 + b1)\n",
        "# logits = h @ W2 + b2\n",
        "# loss = F.cross_entropy(logits, Y)\n",
        "# loss\n"
      ],
      "metadata": {
        "id": "__bnCv7jsGDi"
      },
      "execution_count": null,
      "outputs": []
    },
    {
      "cell_type": "markdown",
      "source": [
        "Combining the information above and putting them\n",
        "in a easy, clear codeblock"
      ],
      "metadata": {
        "id": "EcbPh5dFqRBo"
      }
    },
    {
      "cell_type": "code",
      "source": [
        "## Create/build a dataset\n",
        "## Block Size is how many characters\n",
        "\n",
        "block_size = 3\n",
        "X, Y = [], []\n",
        "\n",
        "for w in words:\n",
        "  # print(w)\n",
        "  context= [0] * block_size\n",
        "  for ch in w + '.':\n",
        "    ix = stoi[ch]\n",
        "    X.append(context)\n",
        "    Y.append(ix)\n",
        "    # print(''.join(itos[i] for i in context), '--->', itos[ix])\n",
        "    context = context[1:] + [ix]\n",
        "\n",
        "X = torch.tensor(X)\n",
        "Y = torch.tensor(Y)"
      ],
      "metadata": {
        "id": "CxQ2INvdwnrl"
      },
      "execution_count": null,
      "outputs": []
    },
    {
      "cell_type": "code",
      "source": [
        "# This is dataset\n",
        "X.shape, Y.shape"
      ],
      "metadata": {
        "colab": {
          "base_uri": "https://localhost:8080/"
        },
        "id": "tXixGpE8qz0b",
        "outputId": "fada78ff-c0d5-4797-9d96-d490e25ec013"
      },
      "execution_count": null,
      "outputs": [
        {
          "output_type": "execute_result",
          "data": {
            "text/plain": [
              "(torch.Size([228146, 3]), torch.Size([228146]))"
            ]
          },
          "metadata": {},
          "execution_count": 166
        }
      ]
    },
    {
      "cell_type": "code",
      "source": [
        "g = torch.Generator().manual_seed(2147483647)\n",
        "C = torch.randn((27, 2), generator=g)\n",
        "W1 = torch.randn((6, 100), generator=g)\n",
        "b1 = torch.randn(100, generator=g)\n",
        "W2 = torch.randn((100, 27), generator=g)\n",
        "b2 = torch.randn(27, generator=g)\n",
        "parameters = [C, W1, b1, W2, b2]\n",
        "for p in parameters:\n",
        "  p.requires_grad = True"
      ],
      "metadata": {
        "id": "K5Cdtravq7S0"
      },
      "execution_count": null,
      "outputs": []
    },
    {
      "cell_type": "code",
      "source": [
        "# number of parameters in total\n",
        "sum(p.nelement() for p in parameters)"
      ],
      "metadata": {
        "colab": {
          "base_uri": "https://localhost:8080/"
        },
        "id": "tVvfNlMHrBbT",
        "outputId": "8836a132-1c59-41d6-e5bb-0f0640e91aa3"
      },
      "execution_count": null,
      "outputs": [
        {
          "output_type": "execute_result",
          "data": {
            "text/plain": [
              "3481"
            ]
          },
          "metadata": {},
          "execution_count": 156
        }
      ]
    },
    {
      "cell_type": "code",
      "source": [
        "## Change fixed number for steps to learning rate\n",
        "\n",
        "lre = torch.linspace(-3, 0, 1000)\n",
        "lrs = 10**lre"
      ],
      "metadata": {
        "id": "-xi3AYri1f2K"
      },
      "execution_count": null,
      "outputs": []
    },
    {
      "cell_type": "code",
      "source": [
        "## by adding a learning rate, you can keep track of the rates at losses by lri && lossi\n",
        "\n",
        "lri = []\n",
        "lossi = []"
      ],
      "metadata": {
        "id": "AWsYxisQ36xZ"
      },
      "execution_count": null,
      "outputs": []
    },
    {
      "cell_type": "code",
      "source": [
        "## train model\n",
        "## Use random int (ix) to training smaller batches\n",
        "\n",
        "for i in range(10000):\n",
        "\n",
        "  # minibatch construct\n",
        "  ix = torch.randint(0, X.shape[0], (32,))\n",
        "\n",
        "  # forward pass\n",
        "  emb = C[X[ix]]\n",
        "  h = torch.tanh(emb.view(-1 , 6) @ W1 + b1)\n",
        "  logits = h @ W2 + b2\n",
        "  loss = F.cross_entropy(logits, Y[ix])\n",
        "  # print(loss.item())\n",
        "\n",
        "  #backward pass\n",
        "  for p in parameters:\n",
        "    p.grad = None\n",
        "  loss.backward()\n",
        "\n",
        "  #update\n",
        "  # lr = lrs[i]\n",
        "  lr = 0.1\n",
        "  for p in parameters:\n",
        "    p.data += -lr * p.grad\n",
        "\n",
        "  #track stats\n",
        "  # lri.append(lre[i])\n",
        "  # lossi.append(loss.item())\n",
        "\n",
        "print(loss.item())"
      ],
      "metadata": {
        "colab": {
          "base_uri": "https://localhost:8080/"
        },
        "id": "Y6qHCjw_uS57",
        "outputId": "4571ce6c-982e-4164-eb87-2215717f19f4"
      },
      "execution_count": null,
      "outputs": [
        {
          "output_type": "stream",
          "name": "stdout",
          "text": [
            "2.025636911392212\n"
          ]
        }
      ]
    },
    {
      "cell_type": "code",
      "source": [
        "## plot the stats for learning rate (X-as) and loss (Y-as)\n",
        "# plt.plot(lri, lossi)"
      ],
      "metadata": {
        "id": "hvDuH0Qk2oiS"
      },
      "execution_count": null,
      "outputs": []
    },
    {
      "cell_type": "code",
      "source": [
        "## Check full data set\n",
        "\n",
        "emb = C[X]\n",
        "h = torch.tanh(emb.view(-1 , 6) @ W1 + b1)\n",
        "logits = h @ W2 + b2\n",
        "loss = F.cross_entropy(logits, Y)\n",
        "loss"
      ],
      "metadata": {
        "colab": {
          "base_uri": "https://localhost:8080/"
        },
        "id": "gSPPJvkCzvx3",
        "outputId": "d3675915-230d-4f93-bfae-7e13fead6fe7"
      },
      "execution_count": null,
      "outputs": [
        {
          "output_type": "execute_result",
          "data": {
            "text/plain": [
              "tensor(2.3227, grad_fn=<NllLossBackward0>)"
            ]
          },
          "metadata": {},
          "execution_count": 190
        }
      ]
    },
    {
      "cell_type": "markdown",
      "source": [
        "Common in training is to split up your data in three\n",
        "\n",
        "- Training Split            80% || Paramaters\n",
        "- Dev/Validation Split      10% || Hyper parameters\n",
        "- Test Split                10% || Eval parameters at the end\n"
      ],
      "metadata": {
        "id": "F1LyqPcN6YkS"
      }
    },
    {
      "cell_type": "code",
      "source": [
        "# build the vocabulary of characters and mappings to/from integers\n",
        "## Zie les 1\n",
        "chars = sorted(list(set(''.join(words))))\n",
        "stoi = {s:i+1 for i,s in enumerate(chars)}\n",
        "stoi['.'] = 0\n",
        "itos = {i:s for s,i in stoi.items()}\n",
        "print(itos)"
      ],
      "metadata": {
        "colab": {
          "base_uri": "https://localhost:8080/"
        },
        "id": "sQ7PtaLKAkt6",
        "outputId": "a5e2bed2-25b0-472a-e762-d624a1f57ef8"
      },
      "execution_count": null,
      "outputs": [
        {
          "output_type": "stream",
          "name": "stdout",
          "text": [
            "{1: 'a', 2: 'b', 3: 'c', 4: 'd', 5: 'e', 6: 'f', 7: 'g', 8: 'h', 9: 'i', 10: 'j', 11: 'k', 12: 'l', 13: 'm', 14: 'n', 15: 'o', 16: 'p', 17: 'q', 18: 'r', 19: 's', 20: 't', 21: 'u', 22: 'v', 23: 'w', 24: 'x', 25: 'y', 26: 'z', 0: '.'}\n"
          ]
        }
      ]
    },
    {
      "cell_type": "code",
      "source": [
        "##        Build the dataset\n",
        "##        Made dataset a functie\n",
        "##        Xtr,Ytr = Training Split  || Xdev, Ydev = Dev Split || Xte, Yte = Test Split\n",
        "\n",
        "block_size = 3\n",
        "\n",
        "def build_dataset(words):\n",
        "  X, Y = [], []\n",
        "  for w in words:\n",
        "\n",
        "    context = [0] * block_size\n",
        "    for ch in w + '.':\n",
        "      ix = stoi[ch]\n",
        "      X.append(context)\n",
        "      Y.append(ix)\n",
        "      context = context[1:] + [ix]\n",
        "\n",
        "  X = torch.tensor(X)\n",
        "  Y = torch.tensor(Y)\n",
        "  print(X.shape, Y.shape)\n",
        "  return X, Y\n",
        "\n",
        "import random\n",
        "random.seed(42)\n",
        "random.shuffle(words)\n",
        "n1 = int(0.8*len(words))\n",
        "n2 = int(0.9*len(words))\n",
        "\n",
        "Xtr, Ytr = build_dataset(words[:n1])\n",
        "Xdev, Ydev = build_dataset(words[n1:n2])\n",
        "Xte, Yte = build_dataset(words[n2:])"
      ],
      "metadata": {
        "colab": {
          "base_uri": "https://localhost:8080/"
        },
        "id": "20qNnWSl6y5h",
        "outputId": "170b564f-7e43-4ca0-9f81-a381b6831025"
      },
      "execution_count": null,
      "outputs": [
        {
          "output_type": "stream",
          "name": "stdout",
          "text": [
            "torch.Size([182625, 3]) torch.Size([182625])\n",
            "torch.Size([22655, 3]) torch.Size([22655])\n",
            "torch.Size([22866, 3]) torch.Size([22866])\n"
          ]
        }
      ]
    },
    {
      "cell_type": "code",
      "source": [
        "# This is Training dataset\n",
        "Xtr.shape, Ytr.shape"
      ],
      "metadata": {
        "colab": {
          "base_uri": "https://localhost:8080/"
        },
        "id": "M2EdhGdM7bKT",
        "outputId": "6544f69e-38b2-45d1-c774-8f6c3b197d1d"
      },
      "execution_count": null,
      "outputs": [
        {
          "output_type": "execute_result",
          "data": {
            "text/plain": [
              "(torch.Size([182551, 3]), torch.Size([182551]))"
            ]
          },
          "metadata": {},
          "execution_count": 335
        }
      ]
    },
    {
      "cell_type": "code",
      "source": [
        "g = torch.Generator().manual_seed(2147483647)\n",
        "C = torch.randn((27, 10), generator=g)\n",
        "W1 = torch.randn((30, 200), generator=g)\n",
        "b1 = torch.randn(200, generator=g)\n",
        "W2 = torch.randn((200, 27), generator=g)\n",
        "b2 = torch.randn(27, generator=g)\n",
        "parameters = [C, W1, b1, W2, b2]\n",
        "for p in parameters:\n",
        "  p.requires_grad = True"
      ],
      "metadata": {
        "id": "3LGeZPDc8WZx"
      },
      "execution_count": null,
      "outputs": []
    },
    {
      "cell_type": "code",
      "source": [
        "# number of parameters in total\n",
        "sum(p.nelement() for p in parameters)"
      ],
      "metadata": {
        "colab": {
          "base_uri": "https://localhost:8080/"
        },
        "id": "joyBgCx3-IOR",
        "outputId": "a501d579-0fba-49ae-f194-3b5647046dd2"
      },
      "execution_count": null,
      "outputs": [
        {
          "output_type": "execute_result",
          "data": {
            "text/plain": [
              "11897"
            ]
          },
          "metadata": {},
          "execution_count": 18
        }
      ]
    },
    {
      "cell_type": "code",
      "source": [
        "## Change fixed number for steps to learning rate\n",
        "lre = torch.linspace(-3, 0, 1000)\n",
        "lrs = 10**lre"
      ],
      "metadata": {
        "id": "duS0sHcB-NNA"
      },
      "execution_count": null,
      "outputs": []
    },
    {
      "cell_type": "code",
      "source": [
        "## by adding a learning rate, you can keep track of the rates at losses by lri && lossi\n",
        "lri = []\n",
        "lossi = []\n",
        "stepi = []"
      ],
      "metadata": {
        "id": "X-XB2-IS8cGh"
      },
      "execution_count": null,
      "outputs": []
    },
    {
      "cell_type": "code",
      "source": [
        "## train model with Xtr en Ytr\n",
        "## Use random int (ix) to training smaller batches\n",
        "\n",
        "for i in range(200000):\n",
        "\n",
        "  # minibatch construct\n",
        "  ix = torch.randint(0, Xtr.shape[0], (32,))\n",
        "\n",
        "  # forward pass\n",
        "  emb = C[Xtr[ix]]\n",
        "  h = torch.tanh(emb.view(-1 , 30) @ W1 + b1)\n",
        "  logits = h @ W2 + b2\n",
        "  loss = F.cross_entropy(logits, Ytr[ix])\n",
        "  # print(loss.item())\n",
        "\n",
        "  #backward pass\n",
        "  for p in parameters:\n",
        "    p.grad = None\n",
        "  loss.backward()\n",
        "\n",
        "  #update\n",
        "  # lr = lrs[i]\n",
        "  lr = 0.1 if i < 100000 else 0.01\n",
        "  for p in parameters:\n",
        "    p.data += -lr * p.grad\n",
        "\n",
        "  # track stats\n",
        "  # lri.append(lre[i])\n",
        "  stepi.append(i)\n",
        "  lossi.append(loss.log10().item())"
      ],
      "metadata": {
        "id": "d9FuzSOh8iNp"
      },
      "execution_count": null,
      "outputs": []
    },
    {
      "cell_type": "code",
      "source": [
        "## Check of after training set\n",
        "print(loss.item())"
      ],
      "metadata": {
        "colab": {
          "base_uri": "https://localhost:8080/"
        },
        "id": "SZu3fciN84xq",
        "outputId": "0604113c-09e8-4838-94d8-8b39baa9de76"
      },
      "execution_count": null,
      "outputs": [
        {
          "output_type": "stream",
          "name": "stdout",
          "text": [
            "1.9860793352127075\n"
          ]
        }
      ]
    },
    {
      "cell_type": "code",
      "source": [
        "plt.plot(stepi, lossi)"
      ],
      "metadata": {
        "colab": {
          "base_uri": "https://localhost:8080/",
          "height": 448
        },
        "id": "fo7snu1Q-kK5",
        "outputId": "b47d9989-e174-4190-8a1e-c6d2b2b9d51d"
      },
      "execution_count": null,
      "outputs": [
        {
          "output_type": "execute_result",
          "data": {
            "text/plain": [
              "[<matplotlib.lines.Line2D at 0x7fa42d6abf10>]"
            ]
          },
          "metadata": {},
          "execution_count": 42
        },
        {
          "output_type": "display_data",
          "data": {
            "text/plain": [
              "<Figure size 640x480 with 1 Axes>"
            ],
            "image/png": "[encoded data removed]"
          },
          "metadata": {}
        }
      ]
    },
    {
      "cell_type": "code",
      "source": [
        "## Eval with the Dev set\n",
        "emb = C[Xdev]\n",
        "h = torch.tanh(emb.view(-1 , 30) @ W1 + b1)\n",
        "logits = h @ W2 + b2\n",
        "loss = F.cross_entropy(logits, Ydev)\n",
        "loss"
      ],
      "metadata": {
        "colab": {
          "base_uri": "https://localhost:8080/"
        },
        "id": "XenzcnwL9DLh",
        "outputId": "2bd98b8e-0b28-422b-d5cb-629ad8dd5397"
      },
      "execution_count": null,
      "outputs": [
        {
          "output_type": "execute_result",
          "data": {
            "text/plain": [
              "tensor(2.1677, grad_fn=<NllLossBackward0>)"
            ]
          },
          "metadata": {},
          "execution_count": 43
        }
      ]
    },
    {
      "cell_type": "code",
      "source": [
        "## Eval with the Training set\n",
        "emb = C[Xtr]\n",
        "h = torch.tanh(emb.view(-1 , 30) @ W1 + b1)\n",
        "logits = h @ W2 + b2\n",
        "loss = F.cross_entropy(logits, Ytr)\n",
        "loss"
      ],
      "metadata": {
        "colab": {
          "base_uri": "https://localhost:8080/"
        },
        "id": "LZY5_2pqDw-Q",
        "outputId": "f6e758ce-c5ef-4f86-df34-3140f66c62d0"
      },
      "execution_count": null,
      "outputs": [
        {
          "output_type": "execute_result",
          "data": {
            "text/plain": [
              "tensor(2.1271, grad_fn=<NllLossBackward0>)"
            ]
          },
          "metadata": {},
          "execution_count": 44
        }
      ]
    },
    {
      "cell_type": "code",
      "source": [
        "# visualize dimensions 0 and 1 of the embedding matrix C for all characters\n",
        "plt.figure(figsize=(8,8))\n",
        "plt.scatter(C[:,0].data, C[:,1].data, s=200)\n",
        "for i in range(C.shape[0]):\n",
        "    plt.text(C[i,0].item(), C[i,1].item(), itos[i], ha=\"center\", va=\"center\", color='white')\n",
        "plt.grid('minor')"
      ],
      "metadata": {
        "colab": {
          "base_uri": "https://localhost:8080/",
          "height": 676
        },
        "id": "gCGNPlO4_-dZ",
        "outputId": "5eb90dca-9545-4dd6-8b7b-8374dd90ced9"
      },
      "execution_count": null,
      "outputs": [
        {
          "output_type": "display_data",
          "data": {
            "text/plain": [
              "<Figure size 800x800 with 1 Axes>"
            ],
            "image/png": "[encoded data removed]"
          },
          "metadata": {}
        }
      ]
    },
    {
      "cell_type": "code",
      "source": [
        "# sample from the model\n",
        "g = torch.Generator().manual_seed(21475565483 + 10)\n",
        "\n",
        "for _ in range(20):\n",
        "\n",
        "    out = []\n",
        "    context = [0] * block_size # initialize with all ...\n",
        "    while True:\n",
        "      emb = C[torch.tensor([context])] # (1,block_size,d)\n",
        "      h = torch.tanh(emb.view(1, -1) @ W1 + b1)\n",
        "      logits = h @ W2 + b2\n",
        "      probs = F.softmax(logits, dim=1)\n",
        "      ix = torch.multinomial(probs, num_samples=1, generator=g).item()\n",
        "      context = context[1:] + [ix]\n",
        "      out.append(ix)\n",
        "      if ix == 0:\n",
        "        break\n",
        "\n",
        "    print(''.join(itos[i] for i in out))"
      ],
      "metadata": {
        "id": "PTPg-QoWEwLR"
      },
      "execution_count": null,
      "outputs": []
    }
  ]
}